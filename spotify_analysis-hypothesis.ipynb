{
 "cells": [
  {
   "cell_type": "code",
   "execution_count": 1,
   "metadata": {},
   "outputs": [],
   "source": [
    "# Import Libraries\n",
    "\n",
    "import matplotlib.pyplot as plt\n",
    "import numpy as np\n",
    "import pandas as pd\n",
    "import random \n",
    "import scipy.stats as stats"
   ]
  },
  {
   "cell_type": "code",
   "execution_count": 2,
   "metadata": {},
   "outputs": [],
   "source": [
    "random.seed(42)"
   ]
  },
  {
   "cell_type": "code",
   "execution_count": 3,
   "metadata": {},
   "outputs": [],
   "source": [
    "# Import clean data\n",
    "\n",
    "file_path = \"Output_data/spotify_clean.csv\"\n",
    "\n",
    "spotify_df = pd.read_csv(file_path, low_memory=False)"
   ]
  },
  {
   "cell_type": "markdown",
   "metadata": {},
   "source": [
    "# Let the data speak to you \n",
    "                                        - Jeff , UTSA Bootcamp"
   ]
  },
  {
   "cell_type": "code",
   "execution_count": 4,
   "metadata": {},
   "outputs": [
    {
     "data": {
      "text/html": [
       "<div>\n",
       "<style scoped>\n",
       "    .dataframe tbody tr th:only-of-type {\n",
       "        vertical-align: middle;\n",
       "    }\n",
       "\n",
       "    .dataframe tbody tr th {\n",
       "        vertical-align: top;\n",
       "    }\n",
       "\n",
       "    .dataframe thead th {\n",
       "        text-align: right;\n",
       "    }\n",
       "</style>\n",
       "<table border=\"1\" class=\"dataframe\">\n",
       "  <thead>\n",
       "    <tr style=\"text-align: right;\">\n",
       "      <th></th>\n",
       "      <th>year</th>\n",
       "      <th>artists</th>\n",
       "      <th>acousticness</th>\n",
       "      <th>danceability</th>\n",
       "      <th>energy</th>\n",
       "      <th>instrumentalness</th>\n",
       "      <th>loudness</th>\n",
       "      <th>popularity</th>\n",
       "      <th>speechiness</th>\n",
       "      <th>valence</th>\n",
       "    </tr>\n",
       "  </thead>\n",
       "  <tbody>\n",
       "    <tr>\n",
       "      <th>0</th>\n",
       "      <td>1920</td>\n",
       "      <td>Mamie Smith</td>\n",
       "      <td>0.991000</td>\n",
       "      <td>0.598</td>\n",
       "      <td>0.224</td>\n",
       "      <td>0.000522</td>\n",
       "      <td>-12.628</td>\n",
       "      <td>12</td>\n",
       "      <td>0.0936</td>\n",
       "      <td>0.6340</td>\n",
       "    </tr>\n",
       "    <tr>\n",
       "      <th>1</th>\n",
       "      <td>1920</td>\n",
       "      <td>Screamin Jay Hawkins</td>\n",
       "      <td>0.643000</td>\n",
       "      <td>0.852</td>\n",
       "      <td>0.517</td>\n",
       "      <td>0.026400</td>\n",
       "      <td>-7.261</td>\n",
       "      <td>7</td>\n",
       "      <td>0.0534</td>\n",
       "      <td>0.9500</td>\n",
       "    </tr>\n",
       "    <tr>\n",
       "      <th>2</th>\n",
       "      <td>1920</td>\n",
       "      <td>Mamie Smith</td>\n",
       "      <td>0.993000</td>\n",
       "      <td>0.647</td>\n",
       "      <td>0.186</td>\n",
       "      <td>0.000018</td>\n",
       "      <td>-12.098</td>\n",
       "      <td>4</td>\n",
       "      <td>0.1740</td>\n",
       "      <td>0.6890</td>\n",
       "    </tr>\n",
       "    <tr>\n",
       "      <th>3</th>\n",
       "      <td>1920</td>\n",
       "      <td>Oscar Velazquez</td>\n",
       "      <td>0.000173</td>\n",
       "      <td>0.730</td>\n",
       "      <td>0.798</td>\n",
       "      <td>0.801000</td>\n",
       "      <td>-7.311</td>\n",
       "      <td>17</td>\n",
       "      <td>0.0425</td>\n",
       "      <td>0.0422</td>\n",
       "    </tr>\n",
       "    <tr>\n",
       "      <th>4</th>\n",
       "      <td>1920</td>\n",
       "      <td>Mixe</td>\n",
       "      <td>0.295000</td>\n",
       "      <td>0.704</td>\n",
       "      <td>0.707</td>\n",
       "      <td>0.000246</td>\n",
       "      <td>-6.036</td>\n",
       "      <td>2</td>\n",
       "      <td>0.0768</td>\n",
       "      <td>0.2990</td>\n",
       "    </tr>\n",
       "  </tbody>\n",
       "</table>\n",
       "</div>"
      ],
      "text/plain": [
       "   year               artists  acousticness  danceability  energy  \\\n",
       "0  1920           Mamie Smith      0.991000         0.598   0.224   \n",
       "1  1920  Screamin Jay Hawkins      0.643000         0.852   0.517   \n",
       "2  1920           Mamie Smith      0.993000         0.647   0.186   \n",
       "3  1920       Oscar Velazquez      0.000173         0.730   0.798   \n",
       "4  1920                  Mixe      0.295000         0.704   0.707   \n",
       "\n",
       "   instrumentalness  loudness  popularity  speechiness  valence  \n",
       "0          0.000522   -12.628          12       0.0936   0.6340  \n",
       "1          0.026400    -7.261           7       0.0534   0.9500  \n",
       "2          0.000018   -12.098           4       0.1740   0.6890  \n",
       "3          0.801000    -7.311          17       0.0425   0.0422  \n",
       "4          0.000246    -6.036           2       0.0768   0.2990  "
      ]
     },
     "execution_count": 4,
     "metadata": {},
     "output_type": "execute_result"
    }
   ],
   "source": [
    "# Look at data frame summary\n",
    "\n",
    "spotify_df.head()"
   ]
  },
  {
   "cell_type": "markdown",
   "metadata": {},
   "source": [
    "## How has music chaged over time .. lets see.."
   ]
  },
  {
   "cell_type": "code",
   "execution_count": 5,
   "metadata": {},
   "outputs": [
    {
     "data": {
      "text/plain": [
       "decade\n",
       "1920-1929     5631\n",
       "1930-1939    10760\n",
       "1940-1949    15491\n",
       "1950-1959    20000\n",
       "1960-1969    19610\n",
       "1970-1979    20108\n",
       "1980-1989    20074\n",
       "1990-1999    20328\n",
       "2000-2009    13779\n",
       "2010-2019    22441\n",
       "2020 +        6132\n",
       "Name: artists, dtype: int64"
      ]
     },
     "execution_count": 5,
     "metadata": {},
     "output_type": "execute_result"
    }
   ],
   "source": [
    "# Create bins for decades\n",
    "\n",
    "bins  = [1920,1929,1939,1949,1959,1969,1979,1989,1999,2009,2019,2030]\n",
    "bin_group = ['1920-1929','1930-1939','1940-1949','1950-1959','1960-1969','1970-1979','1980-1989','1990-1999','2000-2009','2010-2019','2020 +']\n",
    "# Sort df by bins\n",
    "\n",
    "spotify_copy = spotify_df\n",
    "spotify_copy['decade'] = pd.cut(spotify_copy['year'],bins,labels=bin_group,include_lowest=True)\n",
    "spotify_copy = spotify_copy[['decade', 'artists', 'acousticness', 'danceability',\n",
    "       'energy', 'instrumentalness', 'loudness', 'popularity', 'speechiness',\n",
    "       'valence']]\n",
    "song_count = spotify_copy.groupby('decade')['artists'].count()\n",
    "song_count"
   ]
  },
  {
   "cell_type": "code",
   "execution_count": 6,
   "metadata": {},
   "outputs": [],
   "source": [
    "# Generate a grouped dataframe to show average music characteristics\n",
    "\n",
    "spotify_line = spotify_copy[['decade','acousticness','danceability','energy','instrumentalness','speechiness','valence']]\n",
    "song_line = spotify_line.groupby('decade').mean()\n",
    "\n",
    "# Generate a line chart showing music characteristics change over decades\n",
    "x_labels = ['1920s','1930s','1940s','1950s','1960s','1970s','1980s','1990s','2000s','2010s','2020+']\n",
    "#x_axis = x_labels\n",
    "y_labels = ['acousticness','danceability','energy','instrumentalness','speechiness','valence']\n",
    "y_line = song_line[['acousticness','danceability','energy','instrumentalness','speechiness','valence']]\n"
   ]
  },
  {
   "cell_type": "code",
   "execution_count": 13,
   "metadata": {},
   "outputs": [
    {
     "data": {
      "image/png": "[encoded data removed]",
      "text/plain": [
       "<Figure size 1152x504 with 2 Axes>"
      ]
     },
     "metadata": {
      "needs_background": "light"
     },
     "output_type": "display_data"
    }
   ],
   "source": [
    "# Generate a bar plot showing total songs released by decade\n",
    "\n",
    "x_axis = song_count.index\n",
    "y_axis = song_count\n",
    "\n",
    "fig, (ax1, ax2) = plt.subplots(1, 2)\n",
    "fig.suptitle(\"XYZ\")\n",
    "fig.set_figheight(7)\n",
    "fig.set_figwidth(16)\n",
    "\n",
    "fig.suptitle('How has music chaged over time?', fontsize=15)\n",
    "\n",
    "ax1.bar(x_axis, y_axis,width=.6,color=['r', 'g', 'b', 'y', 'm', 'c', 'k'] )\n",
    "ax1.set_title('Song Release Count by Decade',fontsize=20)\n",
    "ax1.set_ylabel('Number of Songs')\n",
    "ax1.set_xlabel('Decade')\n",
    "ax1.tick_params(labelrotation=90)\n",
    "\n",
    "#Subplot 2\n",
    "\n",
    "ax2.plot(x_labels, y_line, marker='s',linewidth=1)\n",
    "ax2.set_title('Music Characteristics by Decade',fontsize=20)\n",
    "ax2.set_ylabel('Music Characteristic Measurement (Avg)',fontsize=15)\n",
    "ax2.set_xlabel('Decade',fontsize=15)\n",
    "ax2.legend(y_labels,loc ='upper right')\n",
    "ax2.tick_params(labelrotation=90)\n",
    "plt.show()"
   ]
  },
  {
   "cell_type": "code",
   "execution_count": null,
   "metadata": {},
   "outputs": [],
   "source": [
    "Q"
   ]
  },
  {
   "cell_type": "markdown",
   "metadata": {},
   "source": [
    "##### We can see that year 2020 had the most No. releases "
   ]
  },
  {
   "cell_type": "markdown",
   "metadata": {},
   "source": [
    "### Question 1 : Does musical charecteristic Intrumentalness and danceability influence relase count?\n",
    "#### Null Hypothesis - Increase in Instrumentalness and danceability doesnot increase the release count.\n",
    "#### Alternate Hypothesis -  Increase in Instrumentalness and danceability will increase the release count.\n",
    "\n",
    "### Let us compare  intrumantalness and Danceability of the decade 2000 to intrumentalness ,danceability of the decade 2010"
   ]
  },
  {
   "cell_type": "code",
   "execution_count": 8,
   "metadata": {},
   "outputs": [],
   "source": [
    "#Fetching 'Instrumnetalness' of the decade 2000 and 2010\n",
    "population1 = spotify_df.loc[(spotify_df[\"year\"]>=2000) & (spotify_df[\"year\"]<=2009) ,['instrumentalness','danceability']]\n",
    "population2 = spotify_df.loc[(spotify_df[\"year\"]>=2010) & (spotify_df[\"year\"]<=2019) ,['instrumentalness','danceability' ]]\n"
   ]
  },
  {
   "cell_type": "markdown",
   "metadata": {},
   "source": [
    "#### Using Independent T test to find statistical difference in instrumentalness"
   ]
  },
  {
   "cell_type": "code",
   "execution_count": 9,
   "metadata": {},
   "outputs": [
    {
     "data": {
      "text/plain": [
       "0.12681838743014734"
      ]
     },
     "execution_count": 9,
     "metadata": {},
     "output_type": "execute_result"
    }
   ],
   "source": [
    "population1.instrumentalness.mean()"
   ]
  },
  {
   "cell_type": "code",
   "execution_count": 10,
   "metadata": {},
   "outputs": [
    {
     "data": {
      "text/plain": [
       "0.23235573621229003"
      ]
     },
     "execution_count": 10,
     "metadata": {},
     "output_type": "execute_result"
    }
   ],
   "source": [
    "population2.instrumentalness.mean()"
   ]
  },
  {
   "cell_type": "code",
   "execution_count": 12,
   "metadata": {},
   "outputs": [
    {
     "data": {
      "text/plain": [
       "Ttest_indResult(statistic=-31.10504780888943, pvalue=1.7704928490085738e-209)"
      ]
     },
     "execution_count": 12,
     "metadata": {},
     "output_type": "execute_result"
    }
   ],
   "source": [
    "# Calculate Independent (Two Sample) t-test\n",
    "stats.ttest_ind(population1.instrumentalness, population2.instrumentalness, equal_var=False)"
   ]
  },
  {
   "cell_type": "markdown",
   "metadata": {},
   "source": [
    "### There is no statistically significant difference between instrumntalness in the 2 decades\n",
    "### Increase in instrumntalness may or may not influence increase the release count"
   ]
  },
  {
   "cell_type": "code",
   "execution_count": null,
   "metadata": {},
   "outputs": [],
   "source": []
  },
  {
   "cell_type": "markdown",
   "metadata": {},
   "source": [
    "# Question 2: How has Rolling Stones Music Style Evolved Over Time?"
   ]
  },
  {
   "cell_type": "code",
   "execution_count": null,
   "metadata": {},
   "outputs": [],
   "source": [
    "# Create data frame sorted by the artist, The Rolling Stones\n",
    "spotify_stones = spotify_copy[spotify_copy['artists']=='The Rolling Stones']\n",
    "spotify_stones.head()"
   ]
  },
  {
   "cell_type": "code",
   "execution_count": null,
   "metadata": {},
   "outputs": [],
   "source": [
    "stones_count = spotify_stones.groupby('decade')['artists'].count()\n",
    "stones_values = stones_count.values[4:]\n",
    "stones_index = stones_count.index[4:] \n",
    "stones_index"
   ]
  },
  {
   "cell_type": "code",
   "execution_count": null,
   "metadata": {},
   "outputs": [],
   "source": [
    "x_axis = stones_index\n",
    "y_axis = stones_values\n",
    "plt.figure(figsize=(15,8))\n",
    "plt.bar(x_axis, y_axis,width=.6,color='rgbymck')\n",
    "plt.title('The Rolling Stones Song Release Count by Decade')\n",
    "plt.ylabel('Number of Songs')\n",
    "plt.xlabel('Decade')\n",
    "plt.show()"
   ]
  },
  {
   "cell_type": "code",
   "execution_count": null,
   "metadata": {},
   "outputs": [],
   "source": [
    "# Generate a grouped dataframe to show average music characteristics\n",
    "\n",
    "stones_line = spotify_stones[['decade','acousticness','danceability','energy','instrumentalness','speechiness','valence']]\n",
    "stones_line = stones_line.groupby('decade').mean()\n",
    "#decade_list = ['1920-1929','1930-1939','1940-1949','1950-1959']\n",
    "#stones_line = stones_line.loc['2010-2019',:].fillna(0)\n",
    "#stones_line[stones_line.index!=decade_list]\n",
    "#stones_line = stones_line.fillna(0)\n",
    "stones_line = stones_line.dropna()\n",
    "x_values = stones_line.index\n",
    "y_values = stones_line.values\n",
    "stones_line"
   ]
  },
  {
   "cell_type": "code",
   "execution_count": null,
   "metadata": {},
   "outputs": [],
   "source": [
    "# Generate a line chart showing music characteristics change over decades\n",
    "x_labels = ['1960s','1970s','1980s','1990s','2000s','2010s','2020+']\n",
    "y_labels = ['acousticness','danceability','energy','instrumentalness','speechiness','valence']\n",
    "#y_axis = song_line[['acousticness','danceability','energy','instrumentalness','speechiness','valence']]\n",
    "plt.figure(figsize=(15,8))\n",
    "plt.plot(x_values, y_values, marker='s',linewidth=2)\n",
    "plt.title('Music Characteristics by Decade',fontsize=20)\n",
    "plt.ylabel('Music Characteristic Measurement (Avg)',fontsize=15)\n",
    "plt.xlabel('Decade',fontsize=15)\n",
    "plt.legend(y_labels)\n",
    "plt.show()"
   ]
  },
  {
   "cell_type": "code",
   "execution_count": null,
   "metadata": {},
   "outputs": [],
   "source": []
  }
 ],
 "metadata": {
  "kernelspec": {
   "display_name": "Python [conda env:pythonData] *",
   "language": "python",
   "name": "conda-env-pythonData-py"
  },
  "language_info": {
   "codemirror_mode": {
    "name": "ipython",
    "version": 3
   },
   "file_extension": ".py",
   "mimetype": "text/x-python",
   "name": "python",
   "nbconvert_exporter": "python",
   "pygments_lexer": "ipython3",
   "version": "3.6.12"
  }
 },
 "nbformat": 4,
 "nbformat_minor": 4
}
